{
 "cells": [
  {
   "cell_type": "code",
   "execution_count": 1,
   "metadata": {
    "pycharm": {
     "is_executing": false
    }
   },
   "outputs": [
    {
     "name": "stdout",
     "output_type": "stream",
     "text": [
      "2.3.0\n"
     ]
    }
   ],
   "source": [
    "from tensorflow.keras.layers import Dense, Dropout, Conv2D, UpSampling2D, Flatten, Input, MaxPooling2D\n",
    "from tensorflow.keras.activations import softmax, sigmoid\n",
    "from tensorflow.keras.optimizers import Adam\n",
    "from tensorflow.keras.preprocessing import image_dataset_from_directory\n",
    "from tensorflow.keras.preprocessing.image import ImageDataGenerator, img_to_array, array_to_img\n",
    "import os\n",
    "\n",
    "from tensorflow.keras.callbacks import ModelCheckpoint\n",
    "from tensorflow.keras.applications import ResNet50\n",
    "from tensorflow.keras.models import Model\n",
    "import numpy as np\n",
    "import sys\n",
    "import tensorflow\n",
    "print(tensorflow.__version__)"
   ]
  },
  {
   "cell_type": "code",
   "execution_count": 2,
   "metadata": {
    "pycharm": {
     "is_executing": false,
     "name": "#%%\n"
    }
   },
   "outputs": [
    {
     "name": "stdout",
     "output_type": "stream",
     "text": [
      "C:\\Users\\akash\\Downloads\\keras tips and tricks\\classify objects in video\n"
     ]
    }
   ],
   "source": [
    "# if running like python file.py\n",
    "# base_path = os.path.abspath(os.path.dirname(__file__))\n",
    "# print(base_path)\n",
    "\n",
    "#if running in shell/jupyter\n",
    "exec_path = os.getcwd()\n",
    "print(exec_path)"
   ]
  },
  {
   "cell_type": "code",
   "execution_count": 3,
   "metadata": {
    "pycharm": {
     "is_executing": false,
     "name": "#%%\n"
    }
   },
   "outputs": [
    {
     "name": "stdout",
     "output_type": "stream",
     "text": [
      "Found 911 images belonging to 2 classes.\n",
      "Found 389 images belonging to 2 classes.\n"
     ]
    },
    {
     "name": "stderr",
     "output_type": "stream",
     "text": [
      "c:\\users\\akash\\downloads\\env\\lib\\site-packages\\keras_preprocessing\\image\\image_data_generator.py:337: UserWarning: This ImageDataGenerator specifies `zca_whitening`, which overrides setting of `featurewise_center`.\n",
      "  warnings.warn('This ImageDataGenerator specifies '\n"
     ]
    }
   ],
   "source": [
    "data_gen = ImageDataGenerator(rescale=1./255, validation_split=.3, \n",
    "                              rotation_range=90, horizontal_flip=True, \n",
    "                              vertical_flip=True, zca_whitening=True)\n",
    "train_data_gen = data_gen.flow_from_directory(directory=\"C:/Users/akash/Downloads/keras tips and tricks/classify objects in video/Data/\",\n",
    "                             color_mode='rgb',\n",
    "                             classes=['baseball', 'hockey'],\n",
    "                             class_mode='categorical',\n",
    "                             batch_size=32,\n",
    "                             shuffle=False,\n",
    "                             interpolation='nearest',\n",
    "                             subset='training')\n",
    "\n",
    "test_data_gen = data_gen.flow_from_directory(directory=\"C:/Users/akash/Downloads/keras tips and tricks/classify objects in video/Data/\",\n",
    "                                             target_size=(256,256),\n",
    "                                             color_mode='rgb',\n",
    "                                             classes=['baseball', 'hockey'],\n",
    "                                             class_mode='categorical',\n",
    "                                             batch_size=32,\n",
    "                                             shuffle=False, interpolation='nearest',\n",
    "                                             subset='validation')"
   ]
  },
  {
   "cell_type": "code",
   "execution_count": 4,
   "metadata": {
    "pycharm": {
     "is_executing": false,
     "name": "#%%\n"
    }
   },
   "outputs": [
    {
     "name": "stdout",
     "output_type": "stream",
     "text": [
      "Training class info:\n",
      " Image shape: (256, 256, 3)\n",
      " Class Indices: {'baseball': 0, 'hockey': 1}\n",
      " Class Mode: categorical\n",
      " Data Format: channels_last\n",
      "\n",
      "2\n",
      "911\n"
     ]
    }
   ],
   "source": [
    "print(\"Training class info:\\n Image shape: {}\\n Class Indices: {}\\n Class Mode: {}\\n Data Format: {}\\n\".format(\n",
    "    train_data_gen.image_shape, train_data_gen.class_indices, train_data_gen.class_mode, train_data_gen.data_format))\n",
    "print(train_data_gen.num_classes)\n",
    "print(train_data_gen.n)"
   ]
  },
  {
   "cell_type": "code",
   "execution_count": 5,
   "metadata": {
    "pycharm": {
     "is_executing": false,
     "name": "#%%\n"
    }
   },
   "outputs": [],
   "source": [
    "# We will use transfer learning to accelerate our training and model accuracy. \n",
    "# We are going to use ResNet 50 Layer model \n",
    "\n",
    "input_tensor = Input(shape=(256,256,3))\n",
    "baseline_model = ResNet50(weights='imagenet', include_top=False, input_tensor= input_tensor)\n",
    "head_model = baseline_model.output\n",
    "head_model = MaxPooling2D(pool_size=(7,7))(head_model)\n",
    "head_model = Flatten(name='flatten')(head_model)\n",
    "head_model = Dense(512, activation='relu')(head_model)\n",
    "head_model = Dense(100, activation='relu')(head_model)\n",
    "head_model = Dropout(0.4)(head_model)\n",
    "head_model = Dense(train_data_gen.num_classes, activation='softmax')(head_model)\n",
    "\n",
    "model = Model(inputs=baseline_model.input, outputs=head_model)\n",
    "\n",
    "for layer in baseline_model.layers:\n",
    "    layer.trainable = False"
   ]
  },
  {
   "cell_type": "code",
   "execution_count": null,
   "metadata": {
    "pycharm": {
     "is_executing": false,
     "name": "#%%\n"
    }
   },
   "outputs": [
    {
     "name": "stderr",
     "output_type": "stream",
     "text": [
      "c:\\users\\akash\\downloads\\env\\lib\\site-packages\\keras_preprocessing\\image\\image_data_generator.py:720: UserWarning: This ImageDataGenerator specifies `featurewise_center`, but it hasn't been fit on any training data. Fit it first by calling `.fit(numpy_data)`.\n",
      "  warnings.warn('This ImageDataGenerator specifies '\n",
      "c:\\users\\akash\\downloads\\env\\lib\\site-packages\\keras_preprocessing\\image\\image_data_generator.py:739: UserWarning: This ImageDataGenerator specifies `zca_whitening`, but it hasn't been fit on any training data. Fit it first by calling `.fit(numpy_data)`.\n",
      "  warnings.warn('This ImageDataGenerator specifies '\n"
     ]
    },
    {
     "name": "stdout",
     "output_type": "stream",
     "text": [
      "Epoch 1/5\n",
      "28/28 [==============================] - 76s 3s/step - loss: 2.7482 - accuracy: 0.5995 - val_loss: 1.2574 - val_accuracy: 0.5703\n",
      "Epoch 2/5\n",
      "28/28 [==============================] - 92s 3s/step - loss: 1.0001 - accuracy: 0.4643 - val_loss: 0.6952 - val_accuracy: 0.5703\n",
      "Epoch 3/5\n",
      "28/28 [==============================] - 89s 3s/step - loss: 0.7835 - accuracy: 0.3936 - val_loss: 0.6781 - val_accuracy: 0.6042\n",
      "Epoch 4/5\n",
      "28/28 [==============================] - 94s 3s/step - loss: 0.7230 - accuracy: 0.5074 - val_loss: 0.6894 - val_accuracy: 0.4297\n",
      "Epoch 5/5\n",
      "28/28 [==============================] - ETA: 0s - loss: 0.7245 - accuracy: 0.4892"
     ]
    }
   ],
   "source": [
    "model.compile(optimizer=Adam(), loss='categorical_crossentropy', metrics=['accuracy'])\n",
    "\n",
    "history = model.fit(train_data_gen, epochs=5, steps_per_epoch=train_data_gen.n//train_data_gen.batch_size, validation_data=test_data_gen, verbose=1, \n",
    "                    validation_steps=test_data_gen.n//test_data_gen.batch_size)\n"
   ]
  },
  {
   "cell_type": "code",
   "execution_count": null,
   "metadata": {},
   "outputs": [],
   "source": [
    "model.save('C:/Users/akash/Downloads/keras tips and tricks/classify objects in video/Model/')"
   ]
  },
  {
   "cell_type": "code",
   "execution_count": null,
   "metadata": {
    "pycharm": {
     "is_executing": false,
     "name": "#%%\n"
    }
   },
   "outputs": [],
   "source": [
    "import matplotlib.pyplot as plt \n",
    "\n",
    "plt.plot(history.history['val_accuracy'])\n",
    "plt.plot(history.history['accuracy'])\n",
    "plt.xlabel('epochs')\n",
    "plt.legend(['val_accuracy', 'accuracy'])\n",
    "plt.show()\n",
    "plt.clf()"
   ]
  },
  {
   "cell_type": "code",
   "execution_count": null,
   "metadata": {
    "pycharm": {
     "is_executing": false,
     "name": "#%%\n"
    }
   },
   "outputs": [],
   "source": [
    "plt.plot(history.history['val_loss'])\n",
    "plt.plot(history.history['loss'])\n",
    "plt.xlabel('epochs')\n",
    "plt.legend(['val_loss', 'loss'])\n",
    "plt.show()\n",
    "plt.clf()"
   ]
  },
  {
   "cell_type": "markdown",
   "metadata": {},
   "source": [
    "Now we are going to test out model on video. \n",
    "For this to work, we need to \n",
    "1. use OpenCV so that we can extract the images from the videos.\n",
    "2. take frame and pass it through the model.predict.\n",
    "3. Show the output image with legend == predicted class"
   ]
  },
  {
   "cell_type": "code",
   "execution_count": null,
   "metadata": {
    "pycharm": {
     "is_executing": false,
     "name": "#%%\n"
    }
   },
   "outputs": [],
   "source": [
    "import cv2\n",
    "from tensorflow.keras.models import load_model\n",
    "from collections import deque\n",
    "import numpy as np\n",
    "import argparse\n",
    "import pickle\n",
    "\n",
    "# model = load_model('C:/Users/akash/Downloads/keras tips and tricks/classify objects in video/Model/')\n",
    "mean = np.array([123.68, 116.779, 103.939], dtype='float32')\n",
    "print(mean)\n",
    "label = ['baseball', 'hockey']\n",
    "writer = None\n",
    "(W, H) = (None, None)\n",
    "video = cv2.VideoCapture('C:/Users/akash/Downloads/keras tips and tricks/classify objects in video/video/videoplayback (1).mp4')\n",
    "i = 0\n",
    "\n",
    "while(True):\n",
    "    ret, frames = video.read()\n",
    "    if ret == False:\n",
    "        print(\"Failed to read the video\")\n",
    "        break\n",
    "    # if the frame dimensions are empty, grab them\n",
    "    if W is None or H is None:\n",
    "        (H, W) = frames.shape[:2]\n",
    "    output = frames.copy()\n",
    "    # cv2.imwrite('C:/Users/akash/Downloads/keras tips and tricks/classify objects in video/Data/baseball/image{}.png'.format(i), frames)\n",
    "    frame_rgb = cv2.cvtColor(output, cv2.COLOR_BGR2RGB)\n",
    "    resized_frame = np.resize(frame_rgb, new_shape=(1,256,256,3)).astype('float32')\n",
    "    # resized_frame -= mean\n",
    "    # print(resized_frame.shape)\n",
    "    pred = model.predict(resized_frame, verbose=1)\n",
    "    print(pred)\n",
    "    \n",
    "    class_indices = np.argmax(pred)\n",
    "    print(class_indices)\n",
    "    # \n",
    "    # if class_indices == 0:\n",
    "    #     text = 'Baseball'\n",
    "    #     print(text)\n",
    "    # else:\n",
    "    #     text = 'hockey'\n",
    "    #     print(text)\n",
    "    cv2.putText(output, label[class_indices], (35, 50), cv2.FONT_HERSHEY_SIMPLEX, 1.25, (0, 255, 0), 5)\n",
    "    \n",
    "    if writer is None:\n",
    "        fourcc = cv2.VideoWriter_fourcc(*\"MJPG\")\n",
    "        writer = cv2.VideoWriter(\"file_test.mp4\", fourcc, 30, (W, H), True)\n",
    "\n",
    "    # write the output frame to disk\n",
    "    writer.write(output)\n",
    "    cv2.imshow('frame',output)\n",
    "    i += 1\n",
    "    if cv2.waitKey(1) & 0xFF == ord(\"q\"):\n",
    "        break\n",
    "\n",
    "writer.release()\n",
    "video.release()\n",
    "# cv2.destroyAllWindows()"
   ]
  },
  {
   "cell_type": "code",
   "execution_count": null,
   "metadata": {
    "pycharm": {
     "is_executing": false,
     "name": "#%%\n"
    }
   },
   "outputs": [],
   "source": [
    "import cv2\n",
    "import numpy as np\n",
    "from tensorflow.keras.models import load_model\n",
    "\n",
    "# model = load_model('C:/Users/akash/Downloads/keras tips and tricks/classify objects in video/Model/')\n",
    "\n",
    "image = cv2.imread('C:/Users/akash/Downloads/Sports-Type-Classifier-master/data/hockey/00000000.jpeg')\n",
    "new_image = np.resize(image, (1, 256,256,3)).astype('float32')\n",
    "predicted_class = model.predict(new_image, verbose=1)\n",
    "clas = np.argmax(predicted_class)\n",
    "predicted_class"
   ]
  },
  {
   "cell_type": "code",
   "execution_count": null,
   "metadata": {},
   "outputs": [],
   "source": []
  }
 ],
 "metadata": {
  "kernelspec": {
   "display_name": "Python 3",
   "language": "python",
   "name": "python3"
  },
  "language_info": {
   "codemirror_mode": {
    "name": "ipython",
    "version": 3
   },
   "file_extension": ".py",
   "mimetype": "text/x-python",
   "name": "python",
   "nbconvert_exporter": "python",
   "pygments_lexer": "ipython3",
   "version": "3.7.5"
  },
  "pycharm": {
   "stem_cell": {
    "cell_type": "raw",
    "metadata": {
     "collapsed": false
    },
    "source": []
   }
  }
 },
 "nbformat": 4,
 "nbformat_minor": 1
}
